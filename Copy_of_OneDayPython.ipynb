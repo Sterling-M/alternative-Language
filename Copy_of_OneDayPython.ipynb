{
  "cells": [
    {
      "cell_type": "markdown",
      "metadata": {
        "id": "yhMGIMLOZNnI"
      },
      "source": [
        "## One Day Python Assignment\n",
        "This is the assignment intended to teach Python from the basics all the way to using Pandas Dataframes. It is not intended to be comprehensive, but rather a survey of the major topics to get the learner from point A to B.    \n",
        "   \n",
        "Part 1 will be worth 100 points and Part 2 will be worth 100 points. There will only be one assignment on Canvas worth 100 points. The final grade for this will be divided by 2 and rounded up.     \n",
        "So if you got 100 on Part 1 and 67 on Part 2, you will have 167 / 2 = 83.5. Extra credit is added onto Part 1, so, again: if you got 110 on Part 1 and 67 on Part 2, you will have 177 / 2 = 90."
      ]
    },
    {
      "cell_type": "markdown",
      "metadata": {
        "id": "xOAPxePkZNnJ"
      },
      "source": [
        "### PART 1"
      ]
    },
    {
      "cell_type": "markdown",
      "metadata": {
        "id": "lt8xiX7NZNnJ"
      },
      "source": [
        " 1. Print “Hello World”  (2 pts)"
      ]
    },
    {
      "cell_type": "code",
      "execution_count": null,
      "metadata": {
        "id": "dGD5RVwJZNnK",
        "outputId": "fef373cb-8790-4d45-f48c-4844c524bdff",
        "colab": {
          "base_uri": "https://localhost:8080/"
        }
      },
      "outputs": [
        {
          "output_type": "stream",
          "name": "stdout",
          "text": [
            "Hellow World\n"
          ]
        }
      ],
      "source": [
        "print(\"Hellow World\")"
      ]
    },
    {
      "cell_type": "markdown",
      "metadata": {
        "id": "_D5t6EH0ZNnK"
      },
      "source": [
        "2.  Save your age to a variable called “age”    \n",
        "3.  Print “Hello World, I’m (age variable) today.”    (5 pts)"
      ]
    },
    {
      "cell_type": "code",
      "execution_count": null,
      "metadata": {
        "id": "Dw6iPJJPZNnK",
        "outputId": "c29632e4-114f-4f6b-a8fa-16122e105738",
        "colab": {
          "base_uri": "https://localhost:8080/"
        }
      },
      "outputs": [
        {
          "output_type": "stream",
          "name": "stdout",
          "text": [
            "Hello World i'm 27 todawy\n"
          ]
        }
      ],
      "source": [
        "age=27\n",
        "print(f\"Hello World i'm {age} todawy\")"
      ]
    },
    {
      "cell_type": "markdown",
      "metadata": {
        "id": "nkmmUMWmZNnK"
      },
      "source": [
        "4. Print “hello world” in all upper case using a Python string method to alter it (4 pts)"
      ]
    },
    {
      "cell_type": "code",
      "execution_count": null,
      "metadata": {
        "id": "cqggr-Q2ZNnK",
        "outputId": "cd8a75b5-aca9-4161-ccbc-3399c3ce77b6",
        "colab": {
          "base_uri": "https://localhost:8080/"
        }
      },
      "outputs": [
        {
          "output_type": "stream",
          "name": "stdout",
          "text": [
            "HELLO WORLD\n"
          ]
        }
      ],
      "source": [
        "strng= \"hello world\"\n",
        "print(strng.upper())"
      ]
    },
    {
      "cell_type": "markdown",
      "metadata": {
        "id": "iKPEasK-ZNnK"
      },
      "source": [
        " 5. Save any decimal in a variable called a.   \n",
        " Cast a into an int and save it as b.  \n",
        " Cast a into a string and save it as c.   \n",
        " Print each variable and its type.   (11 pts)"
      ]
    },
    {
      "cell_type": "code",
      "execution_count": null,
      "metadata": {
        "id": "W3p15vqLZNnL",
        "outputId": "090c66c4-e360-4019-a258-80f9edd9dc4d",
        "colab": {
          "base_uri": "https://localhost:8080/"
        }
      },
      "outputs": [
        {
          "output_type": "stream",
          "name": "stdout",
          "text": [
            "1.4 <class 'float'>\n",
            "1 <class 'int'>\n",
            "1.4 <class 'str'>\n"
          ]
        }
      ],
      "source": [
        "a=1.4\n",
        "print(a,type(a))\n",
        "b=int(a)\n",
        "print(b,type(b))\n",
        "c=str(a)\n",
        "print(c,type(c))"
      ]
    },
    {
      "cell_type": "markdown",
      "metadata": {
        "id": "ghgWuBADZNnL"
      },
      "source": [
        "6. Create a tuple of your favorite things to eat and print it.   (4 pts)"
      ]
    },
    {
      "cell_type": "code",
      "execution_count": null,
      "metadata": {
        "id": "rDVwkfemZNnL",
        "outputId": "bcae271c-8333-4c5d-dfbb-e95b5e105b96",
        "colab": {
          "base_uri": "https://localhost:8080/"
        }
      },
      "outputs": [
        {
          "output_type": "stream",
          "name": "stdout",
          "text": [
            "['oreos', 'steak', 'grits']\n"
          ]
        }
      ],
      "source": [
        "mytuple=[\"oreos\",\"steak\",\"grits\"]\n",
        "print(mytuple)"
      ]
    },
    {
      "cell_type": "markdown",
      "metadata": {
        "id": "388GMdn0ZNnL"
      },
      "source": [
        "7. Create a dictionary named ‘classes’ with the name of the classes you are taking as the keys and the professors names as the values.\n",
        "Print the dictionary and tuple.   (10 pts)"
      ]
    },
    {
      "cell_type": "code",
      "source": [
        "classes = {\n",
        "    \"Intro Programming in Python\": \"Juan Yepes\",\n",
        "    \"Princip of Programmg Languages\": \"Eric Lloyd\"\n",
        "}\n",
        "\n",
        "print(classes)\n",
        "\n",
        "classes_tuple = tuple(classes.items())\n",
        "\n",
        "print(classes_tuple)"
      ],
      "metadata": {
        "id": "TMiDQ-JWahoc",
        "outputId": "d7df8d79-a383-4cec-dbc2-0afc431804f2",
        "colab": {
          "base_uri": "https://localhost:8080/"
        }
      },
      "execution_count": null,
      "outputs": [
        {
          "output_type": "stream",
          "name": "stdout",
          "text": [
            "{'Intro Programming in Python': 'Juan Yepes', 'Princip of Programmg Languages': 'Eric Lloyd'}\n",
            "(('Intro Programming in Python', 'Juan Yepes'), ('Princip of Programmg Languages', 'Eric Lloyd'))\n"
          ]
        }
      ]
    },
    {
      "cell_type": "markdown",
      "metadata": {
        "id": "ScgmceUfZNnL"
      },
      "source": [
        "8. Create a list called “whole” and put every number in it from 1 - 100  (10 pts)"
      ]
    },
    {
      "cell_type": "code",
      "source": [
        "whole=[]\n",
        "i=0\n",
        "while i<= 100:\n",
        "  whole.append(i)\n",
        "  i+=1\n",
        "print(whole)\n"
      ],
      "metadata": {
        "id": "gV8q5MFObDZl",
        "outputId": "bcd60e9b-7122-4014-8eec-d5cdea5c0e42",
        "colab": {
          "base_uri": "https://localhost:8080/"
        }
      },
      "execution_count": null,
      "outputs": [
        {
          "output_type": "stream",
          "name": "stdout",
          "text": [
            "[0, 1, 2, 3, 4, 5, 6, 7, 8, 9, 10, 11, 12, 13, 14, 15, 16, 17, 18, 19, 20, 21, 22, 23, 24, 25, 26, 27, 28, 29, 30, 31, 32, 33, 34, 35, 36, 37, 38, 39, 40, 41, 42, 43, 44, 45, 46, 47, 48, 49, 50, 51, 52, 53, 54, 55, 56, 57, 58, 59, 60, 61, 62, 63, 64, 65, 66, 67, 68, 69, 70, 71, 72, 73, 74, 75, 76, 77, 78, 79, 80, 81, 82, 83, 84, 85, 86, 87, 88, 89, 90, 91, 92, 93, 94, 95, 96, 97, 98, 99, 100]\n"
          ]
        }
      ]
    },
    {
      "cell_type": "markdown",
      "metadata": {
        "id": "9O9szVmEZNnL"
      },
      "source": [
        "9. Create 4 empty lists called ‘div2’, ‘div3’, ‘div4’, and ‘div5’       \n",
        "Create a loop that examines each number from 1 to 100 and:    \n",
        " If it is divisible by 2, put it in div2   (6 pts)    \n",
        " If it is divisible by 3, put it in div3   (6 pts)     \n",
        " If it is divisible by 4, put it in div4   (6 pts)    \n",
        " If it is divisible by 5, put it in div5   (6 pts)    \n",
        " Print all 5 of these lists"
      ]
    },
    {
      "cell_type": "code",
      "execution_count": null,
      "metadata": {
        "id": "o_NGyi5-ZNnL",
        "outputId": "e98ed1b7-8c78-47d3-e3b6-e27de5f777eb",
        "colab": {
          "base_uri": "https://localhost:8080/"
        }
      },
      "outputs": [
        {
          "output_type": "stream",
          "name": "stdout",
          "text": [
            "Numbers divisible by 2: [2, 4, 6, 8, 10, 12, 14, 16, 18, 20, 22, 24, 26, 28, 30, 32, 34, 36, 38, 40, 42, 44, 46, 48, 50, 52, 54, 56, 58, 60, 62, 64, 66, 68, 70, 72, 74, 76, 78, 80, 82, 84, 86, 88, 90, 92, 94, 96, 98, 100]\n",
            "Numbers divisible by 3: [3, 6, 9, 12, 15, 18, 21, 24, 27, 30, 33, 36, 39, 42, 45, 48, 51, 54, 57, 60, 63, 66, 69, 72, 75, 78, 81, 84, 87, 90, 93, 96, 99]\n",
            "Numbers divisible by 4: [4, 8, 12, 16, 20, 24, 28, 32, 36, 40, 44, 48, 52, 56, 60, 64, 68, 72, 76, 80, 84, 88, 92, 96, 100]\n",
            "Numbers divisible by 5: [5, 10, 15, 20, 25, 30, 35, 40, 45, 50, 55, 60, 65, 70, 75, 80, 85, 90, 95, 100]\n"
          ]
        }
      ],
      "source": [
        "div2 = []\n",
        "div3 = []\n",
        "div4 = []\n",
        "div5 = []\n",
        "\n",
        "for num in range(1, 101):\n",
        "    if num % 2 == 0:\n",
        "        div2.append(num)\n",
        "    if num % 3 == 0:\n",
        "        div3.append(num)\n",
        "    if num % 4 == 0:\n",
        "        div4.append(num)\n",
        "    if num % 5 == 0:\n",
        "        div5.append(num)\n",
        "print(\"Numbers divisible by 2:\", div2)\n",
        "print(\"Numbers divisible by 3:\", div3)\n",
        "print(\"Numbers divisible by 4:\", div4)\n",
        "print(\"Numbers divisible by 5:\", div5)"
      ]
    },
    {
      "cell_type": "markdown",
      "metadata": {
        "id": "g23Pn7YPZNnL"
      },
      "source": [
        "10. Create a new list called “divOver5”   (3 pts)"
      ]
    },
    {
      "cell_type": "code",
      "execution_count": null,
      "metadata": {
        "id": "S1egT8tCZNnM"
      },
      "outputs": [],
      "source": [
        "divOver5 = []"
      ]
    },
    {
      "cell_type": "markdown",
      "metadata": {
        "id": "Cru-0dX1ZNnM"
      },
      "source": [
        "11. Create a new loop that goes through each number 1 through 100 and appends it to divOver5 if it is NOT IN div2 or div3 or div4 or div5      \n",
        " You must use logical operators here.   \n",
        "Print divOver5   (10 points)    "
      ]
    },
    {
      "cell_type": "code",
      "execution_count": null,
      "metadata": {
        "id": "SUrvNCQLZNnM",
        "outputId": "7472cdc8-8c33-4be8-b791-c38259106fa5",
        "colab": {
          "base_uri": "https://localhost:8080/"
        }
      },
      "outputs": [
        {
          "output_type": "stream",
          "name": "stdout",
          "text": [
            "Numbers not divisible by 2, 3, 4, or 5: [1, 7, 11, 13, 17, 19, 23, 29, 31, 37, 41, 43, 47, 49, 53, 59, 61, 67, 71, 73, 77, 79, 83, 89, 91, 97, 1, 3, 5, 7, 9, 11, 13, 15, 17, 19, 21, 23, 25, 27, 29, 31, 33, 35, 37, 39, 41, 43, 45, 47, 49, 51, 53, 55, 57, 59, 61, 63, 65, 67, 69, 71, 73, 75, 77, 79, 81, 83, 85, 87, 89, 91, 93, 95, 97, 99, 1, 7, 11, 13, 17, 19, 23, 29, 31, 37, 41, 43, 47, 49, 53, 59, 61, 67, 71, 73, 77, 79, 83, 89, 91, 97]\n"
          ]
        }
      ],
      "source": [
        "for num in range(1, 101):\n",
        "  if num not in div2 and num not in div3 and num not in div4 and num not in div5:\n",
        "        divOver5.append(num)\n",
        "print(\"Numbers not divisible by 2, 3, 4, or 5:\", divOver5)"
      ]
    },
    {
      "cell_type": "markdown",
      "metadata": {
        "id": "oxBR0l8gZNnM"
      },
      "source": [
        "12. Create a function called exp3 that takes an int x, raises it to the third power.     \n",
        "Create a string in the function that says “x^3 = “ and concatenate x onto the end of the string.      \n",
        "Now return the string from the function.  Call the function exp3 and print what it returns.   (15 pts)"
      ]
    },
    {
      "cell_type": "code",
      "execution_count": null,
      "metadata": {
        "id": "XptGyPVtZNnM",
        "outputId": "b247ce7e-0749-41e0-8e94-83de5760c903",
        "colab": {
          "base_uri": "https://localhost:8080/"
        }
      },
      "outputs": [
        {
          "output_type": "stream",
          "name": "stdout",
          "text": [
            "12^3 = 1728\n"
          ]
        }
      ],
      "source": [
        "def exp3(x):\n",
        "    result = x ** 3\n",
        "    output= f\"{x}^3 = {result}\"\n",
        "    return output\n",
        "\n",
        "result_string = exp3(12)\n",
        "print(result_string)"
      ]
    },
    {
      "cell_type": "markdown",
      "metadata": {
        "id": "hBjJwn1pZNnM"
      },
      "source": [
        "13. Iterate through the classes dictionary and print the keys    (5 pts)"
      ]
    },
    {
      "cell_type": "code",
      "execution_count": null,
      "metadata": {
        "id": "9vQcqU3QZNnM",
        "outputId": "79ed9e34-73cb-414e-cdab-d9502974c1fa",
        "colab": {
          "base_uri": "https://localhost:8080/"
        }
      },
      "outputs": [
        {
          "output_type": "stream",
          "name": "stdout",
          "text": [
            "Intro Programming in Python\n",
            "Princip of Programmg Languages\n"
          ]
        }
      ],
      "source": [
        "for class_name in classes.keys():\n",
        "    print(class_name)"
      ]
    },
    {
      "cell_type": "markdown",
      "metadata": {
        "id": "ieSb18yZZNnM"
      },
      "source": [
        "14. Iterate through the classes dictionary and print the values   (5 pts)"
      ]
    },
    {
      "cell_type": "code",
      "execution_count": null,
      "metadata": {
        "id": "dcf56F2aZNnM",
        "outputId": "98ae884d-4e78-44b1-872f-af92ee0205a4",
        "colab": {
          "base_uri": "https://localhost:8080/"
        }
      },
      "outputs": [
        {
          "output_type": "stream",
          "name": "stdout",
          "text": [
            "Juan Yepes\n",
            "Eric Lloyd\n"
          ]
        }
      ],
      "source": [
        "for prof_name in classes.values():\n",
        "    print(prof_name)"
      ]
    },
    {
      "cell_type": "markdown",
      "metadata": {
        "id": "T-b9cGpYZNnM"
      },
      "source": [
        "(Worth +10 points) Extra Points:   \n",
        "Create a class called Student that has the properties:    \n",
        "\tname (holds student name)    \n",
        "\tage (holds student age)    \n",
        "\tbirthmonth (hold students birthmonth)\n",
        "\n",
        "\tA count variable exists that is set to 0 (see lecture) and upon each call to the class this variable increments     \n",
        "\n",
        "\t2 functions in the class:  displayName which returns the name of the student and displayBirthmonth which returns the birth month of the student    \n",
        "\n",
        "\tNow create 3 students, use whatever data you want.       \n",
        "\tCall displayName() on student1     \n",
        "\tCall displayBirthmonth() on student2    \n",
        "\tprint the student count    \n"
      ]
    },
    {
      "cell_type": "code",
      "execution_count": 3,
      "metadata": {
        "id": "u9drJDuiZNnM",
        "colab": {
          "base_uri": "https://localhost:8080/"
        },
        "outputId": "e7179178-25b2-4c87-a508-a407f5871ad1"
      },
      "outputs": [
        {
          "output_type": "stream",
          "name": "stdout",
          "text": [
            "Student 1 Name: Carolina\n",
            "Student 2 Birth Month: March\n",
            "Student Count: 3\n"
          ]
        }
      ],
      "source": [
        "class Student:\n",
        "    count = 0\n",
        "\n",
        "    def __init__(self, name, age, birthmonth):\n",
        "        self.name = name\n",
        "        self.age = age\n",
        "        self.birthmonth = birthmonth\n",
        "        Student.count += 1\n",
        "\n",
        "    def displayName(self):\n",
        "        return self.name\n",
        "\n",
        "    def displayBirthmonth(self):\n",
        "        return self.birthmonth\n",
        "\n",
        "\n",
        "student1 = Student(\"Carolina\", 20, \"January\")\n",
        "student2 = Student(\"Ian\", 22, \"March\")\n",
        "student3 = Student(\"Sean\", 21, \"June\")\n",
        "\n",
        "print(\"Student 1 Name:\", student1.displayName())\n",
        "print(\"Student 2 Birth Month:\", student2.displayBirthmonth())\n",
        "print(\"Student Count:\", Student.count)"
      ]
    },
    {
      "cell_type": "markdown",
      "metadata": {
        "id": "F4qWJbQfZNnM"
      },
      "source": [
        "### PART 2"
      ]
    },
    {
      "cell_type": "markdown",
      "metadata": {
        "id": "BUpSMZq-ZNnN"
      },
      "source": [
        "This part will require you to use the film_results.txt file provided on Canvas. You will also need to import NumPy and Pandas."
      ]
    },
    {
      "cell_type": "markdown",
      "metadata": {
        "id": "s8DEzNh_ZNnN"
      },
      "source": [
        "1. Move the film_results.txt file from Blackboard into your project directory.     \n",
        " Create 3 lists, one for states, one for shows, and one for viewers.     \n",
        " Ingest data from text file and put it into a NumPy array (show_results.txt)      \n",
        "\tItll look like a nested list.       \n",
        "          [ [‘Oregon’, ‘Once Upon a Time’, ‘4075’] [...] …]     \n",
        " Print the raw data   (10 pts)    "
      ]
    },
    {
      "cell_type": "code",
      "execution_count": 16,
      "metadata": {
        "id": "HyOz-FclZNnN",
        "colab": {
          "base_uri": "https://localhost:8080/"
        },
        "outputId": "217fbec6-ab76-4049-a900-edcbc9c7f4d3"
      },
      "outputs": [
        {
          "output_type": "stream",
          "name": "stdout",
          "text": [
            "[['Oregon' 'Once Upon a Time' '4075']\n",
            " ['Washington' 'Vikings' '3739']\n",
            " ['Washington' 'Game of Thrones' '3997']\n",
            " ['Nevada' 'Vikings' '1682']\n",
            " ['Washington' 'Game of Thrones' '8983']\n",
            " ['Washington' 'Vikings' '145']\n",
            " ['Idaho' 'Daredevil' '2663']\n",
            " ['California' 'Game of Thrones' '6361']\n",
            " ['Idaho' 'Game of Thrones' '6788']\n",
            " ['Idaho' 'The Flash' '3064']\n",
            " ['Oregon' 'Gotham' '9389']\n",
            " ['Washington' 'The Walking Dead' '4301']\n",
            " ['Nevada' 'Game of Thrones' '7328']\n",
            " ['California' 'The Flash' '9003']\n",
            " ['Nevada' 'Gotham' '8575']\n",
            " ['Idaho' 'Suits' '3239']\n",
            " ['Idaho' 'Gotham' '6695']\n",
            " ['Nevada' 'The Flash' '594']\n",
            " ['Nevada' 'The Flash' '3793']\n",
            " ['Nevada' 'Suits' '8544']\n",
            " ['California' 'Vikings' '1059']\n",
            " ['Nevada' 'Daredevil' '8200']\n",
            " ['California' 'Daredevil' '1856']\n",
            " ['Washington' 'Suits' '2871']\n",
            " ['Washington' 'Better Call Saul' '9574']\n",
            " ['Idaho' 'Vikings' '5218']\n",
            " ['Idaho' 'The Walking Dead' '6256']\n",
            " ['Nevada' 'Vikings' '8581']\n",
            " ['Oregon' 'Game of Thrones' '2460']\n",
            " ['Washington' 'Vikings' '728']\n",
            " ['Oregon' 'Vikings' '7495']\n",
            " ['Oregon' 'The Flash' '2103']\n",
            " ['Idaho' 'Better Call Saul' '8179']\n",
            " ['Oregon' 'Orange is the New Black' '1144']\n",
            " ['Nevada' 'Vikings' '7514']\n",
            " ['Washington' 'The Flash' '271']\n",
            " ['California' 'The Walking Dead' '4353']\n",
            " ['Nevada' 'Game of Thrones' '7647']\n",
            " ['California' 'Suits' '3408']\n",
            " ['Oregon' 'The Flash' '8443']\n",
            " ['Washington' 'Better Call Saul' '1970']\n",
            " ['Oregon' 'Vikings' '1711']\n",
            " ['Nevada' 'The Walking Dead' '825']\n",
            " ['Oregon' 'Better Call Saul' '7875']\n",
            " ['Idaho' 'Suits' '1333']\n",
            " ['California' 'Once Upon a Time' '9753']\n",
            " ['Nevada' 'Daredevil' '4233']\n",
            " ['Nevada' 'Orange is the New Black' '1349']\n",
            " ['California' 'Gotham' '1473']\n",
            " ['Idaho' 'Gotham' '4176']\n",
            " ['California' 'Suits' '2193']\n",
            " ['Oregon' 'Gotham' '8477']\n",
            " ['Washington' 'Gotham' '6834']\n",
            " ['Oregon' 'Suits' '2569']\n",
            " ['Oregon' 'Gotham' '8284']\n",
            " ['Oregon' 'The Flash' '4729']\n",
            " ['Washington' 'Game of Thrones' '4988']\n",
            " ['California' 'Game of Thrones' '1177']\n",
            " ['Nevada' 'Vikings' '9210']\n",
            " ['Oregon' 'Daredevil' '6374']\n",
            " ['Idaho' 'The Flash' '9114']\n",
            " ['California' 'Suits' '9049']\n",
            " ['Nevada' 'Once Upon a Time' '6639']\n",
            " ['Idaho' 'Orange is the New Black' '5225']\n",
            " ['Washington' 'The Flash' '4988']\n",
            " ['Washington' 'Once Upon a Time' '2103']\n",
            " ['Oregon' 'Suits' '6207']\n",
            " ['Nevada' 'Vikings' '6859']\n",
            " ['California' 'Suits' '1314']\n",
            " ['Idaho' 'The Flash' '6491']\n",
            " ['Nevada' 'Game of Thrones' '5764']\n",
            " ['Nevada' 'Daredevil' '960']\n",
            " ['Nevada' 'Game of Thrones' '5205']\n",
            " ['Washington' 'Daredevil' '2241']\n",
            " ['Idaho' 'Once Upon a Time' '6930']\n",
            " ['Washington' 'Orange is the New Black' '3699']\n",
            " ['Oregon' 'The Walking Dead' '8447']\n",
            " ['Washington' 'Better Call Saul' '3784']\n",
            " ['Nevada' 'Game of Thrones' '9469']\n",
            " ['California' 'Daredevil' '4746']\n",
            " ['California' 'Better Call Saul' '8430']\n",
            " ['Idaho' 'Game of Thrones' '742']\n",
            " ['Oregon' 'Better Call Saul' '9322']\n",
            " ['California' 'The Flash' '3254']\n",
            " ['Oregon' 'The Flash' '5103']\n",
            " ['California' 'Orange is the New Black' '7291']\n",
            " ['Oregon' 'The Flash' '8395']\n",
            " ['California' 'Daredevil' '7304']\n",
            " ['Nevada' 'Suits' '2707']\n",
            " ['Washington' 'Game of Thrones' '2547']\n",
            " ['Nevada' 'Daredevil' '5555']\n",
            " ['Oregon' 'Gotham' '6505']\n",
            " ['Idaho' 'Daredevil' '1817']\n",
            " ['Nevada' 'Better Call Saul' '7268']\n",
            " ['Nevada' 'Vikings' '8161']\n",
            " ['California' 'Game of Thrones' '517']\n",
            " ['Oregon' 'Daredevil' '2439']\n",
            " ['California' 'Game of Thrones' '7332']\n",
            " ['Oregon' 'Daredevil' '6149']]\n"
          ]
        }
      ],
      "source": [
        "import numpy as np\n",
        "import pandas as pd\n",
        "\n",
        "# Load data from the text file into a NumPy array\n",
        "data = np.genfromtxt('film_results.txt', delimiter=',', dtype=str)\n",
        "\n",
        "\n",
        "states = data[:, 0].tolist()\n",
        "shows = data[:, 1].tolist()\n",
        "viewers = data[:, 2].tolist()\n",
        "\n",
        "\n",
        "print(data)"
      ]
    },
    {
      "cell_type": "markdown",
      "metadata": {
        "id": "nodsIKvOZNnN"
      },
      "source": [
        "2.  Take the data from the NumPy array and sort it by state, show and viewers, putting each into the appropriate lists you defined earlier.  (so now you have 3 lists, one with states, one with shows and one with viewer counts.)  No duplicates in the states and shows.  Duplicates can and should exist in the viewers.      \n",
        "So the states list will look like this: ['Washington', 'Nevada', 'Idaho', 'California', 'Oregon']      \n",
        " Print these unsorted lists    (5 pts)"
      ]
    },
    {
      "cell_type": "code",
      "execution_count": 11,
      "metadata": {
        "id": "2yjo47g-ZNnN",
        "colab": {
          "base_uri": "https://localhost:8080/"
        },
        "outputId": "1ce38ac9-1a98-4f57-e3c9-c555057826d8"
      },
      "outputs": [
        {
          "output_type": "stream",
          "name": "stdout",
          "text": [
            "States: ['Oregon', 'Washington', 'Washington', 'Nevada', 'Washington', 'Washington', 'Idaho', 'California', 'Idaho', 'Idaho', 'Oregon', 'Washington', 'Nevada', 'California', 'Nevada', 'Idaho', 'Idaho', 'Nevada', 'Nevada', 'Nevada', 'California', 'Nevada', 'California', 'Washington', 'Washington', 'Idaho', 'Idaho', 'Nevada', 'Oregon', 'Washington', 'Oregon', 'Oregon', 'Idaho', 'Oregon', 'Nevada', 'Washington', 'California', 'Nevada', 'California', 'Oregon', 'Washington', 'Oregon', 'Nevada', 'Oregon', 'Idaho', 'California', 'Nevada', 'Nevada', 'California', 'Idaho', 'California', 'Oregon', 'Washington', 'Oregon', 'Oregon', 'Oregon', 'Washington', 'California', 'Nevada', 'Oregon', 'Idaho', 'California', 'Nevada', 'Idaho', 'Washington', 'Washington', 'Oregon', 'Nevada', 'California', 'Idaho', 'Nevada', 'Nevada', 'Nevada', 'Washington', 'Idaho', 'Washington', 'Oregon', 'Washington', 'Nevada', 'California', 'California', 'Idaho', 'Oregon', 'California', 'Oregon', 'California', 'Oregon', 'California', 'Nevada', 'Washington', 'Nevada', 'Oregon', 'Idaho', 'Nevada', 'Nevada', 'California', 'Oregon', 'California', 'Oregon']\n",
            "Shows: ['Once Upon a Time', 'Vikings', 'Game of Thrones', 'Vikings', 'Game of Thrones', 'Vikings', 'Daredevil', 'Game of Thrones', 'Game of Thrones', 'The Flash', 'Gotham', 'The Walking Dead', 'Game of Thrones', 'The Flash', 'Gotham', 'Suits', 'Gotham', 'The Flash', 'The Flash', 'Suits', 'Vikings', 'Daredevil', 'Daredevil', 'Suits', 'Better Call Saul', 'Vikings', 'The Walking Dead', 'Vikings', 'Game of Thrones', 'Vikings', 'Vikings', 'The Flash', 'Better Call Saul', 'Orange is the New Black', 'Vikings', 'The Flash', 'The Walking Dead', 'Game of Thrones', 'Suits', 'The Flash', 'Better Call Saul', 'Vikings', 'The Walking Dead', 'Better Call Saul', 'Suits', 'Once Upon a Time', 'Daredevil', 'Orange is the New Black', 'Gotham', 'Gotham', 'Suits', 'Gotham', 'Gotham', 'Suits', 'Gotham', 'The Flash', 'Game of Thrones', 'Game of Thrones', 'Vikings', 'Daredevil', 'The Flash', 'Suits', 'Once Upon a Time', 'Orange is the New Black', 'The Flash', 'Once Upon a Time', 'Suits', 'Vikings', 'Suits', 'The Flash', 'Game of Thrones', 'Daredevil', 'Game of Thrones', 'Daredevil', 'Once Upon a Time', 'Orange is the New Black', 'The Walking Dead', 'Better Call Saul', 'Game of Thrones', 'Daredevil', 'Better Call Saul', 'Game of Thrones', 'Better Call Saul', 'The Flash', 'The Flash', 'Orange is the New Black', 'The Flash', 'Daredevil', 'Suits', 'Game of Thrones', 'Daredevil', 'Gotham', 'Daredevil', 'Better Call Saul', 'Vikings', 'Game of Thrones', 'Daredevil', 'Game of Thrones', 'Daredevil']\n",
            "Viewers: ['4075', '3739', '3997', '1682', '8983', '145', '2663', '6361', '6788', '3064', '9389', '4301', '7328', '9003', '8575', '3239', '6695', '594', '3793', '8544', '1059', '8200', '1856', '2871', '9574', '5218', '6256', '8581', '2460', '728', '7495', '2103', '8179', '1144', '7514', '271', '4353', '7647', '3408', '8443', '1970', '1711', '825', '7875', '1333', '9753', '4233', '1349', '1473', '4176', '2193', '8477', '6834', '2569', '8284', '4729', '4988', '1177', '9210', '6374', '9114', '9049', '6639', '5225', '4988', '2103', '6207', '6859', '1314', '6491', '5764', '960', '5205', '2241', '6930', '3699', '8447', '3784', '9469', '4746', '8430', '742', '9322', '3254', '5103', '7291', '8395', '7304', '2707', '2547', '5555', '6505', '1817', '7268', '8161', '517', '2439', '7332', '6149']\n"
          ]
        }
      ],
      "source": [
        "print(\"States:\", states)\n",
        "print(\"Shows:\", shows)\n",
        "print(\"Viewers:\", viewers)"
      ]
    },
    {
      "cell_type": "markdown",
      "metadata": {
        "id": "XCtiEFRxZNnN"
      },
      "source": [
        "3. Convert all 3 lists into NumPy arrays     \n",
        " print new NumPy Arrays    (10 pts)"
      ]
    },
    {
      "cell_type": "code",
      "execution_count": 27,
      "metadata": {
        "id": "bh0zYYP0ZNnN",
        "colab": {
          "base_uri": "https://localhost:8080/"
        },
        "outputId": "59e1de75-0ea3-4123-8e3e-df97dee5cd48"
      },
      "outputs": [
        {
          "output_type": "stream",
          "name": "stdout",
          "text": [
            "[['Oregon' 'Washington' 'Washington' 'Nevada' 'Washington' 'Washington'\n",
            "  'Idaho' 'California' 'Idaho' 'Idaho' 'Oregon' 'Washington' 'Nevada'\n",
            "  'California' 'Nevada' 'Idaho' 'Idaho' 'Nevada' 'Nevada' 'Nevada'\n",
            "  'California' 'Nevada' 'California' 'Washington' 'Washington' 'Idaho'\n",
            "  'Idaho' 'Nevada' 'Oregon' 'Washington' 'Oregon' 'Oregon' 'Idaho'\n",
            "  'Oregon' 'Nevada' 'Washington' 'California' 'Nevada' 'California'\n",
            "  'Oregon' 'Washington' 'Oregon' 'Nevada' 'Oregon' 'Idaho' 'California'\n",
            "  'Nevada' 'Nevada' 'California' 'Idaho' 'California' 'Oregon'\n",
            "  'Washington' 'Oregon' 'Oregon' 'Oregon' 'Washington' 'California'\n",
            "  'Nevada' 'Oregon' 'Idaho' 'California' 'Nevada' 'Idaho' 'Washington'\n",
            "  'Washington' 'Oregon' 'Nevada' 'California' 'Idaho' 'Nevada' 'Nevada'\n",
            "  'Nevada' 'Washington' 'Idaho' 'Washington' 'Oregon' 'Washington'\n",
            "  'Nevada' 'California' 'California' 'Idaho' 'Oregon' 'California'\n",
            "  'Oregon' 'California' 'Oregon' 'California' 'Nevada' 'Washington'\n",
            "  'Nevada' 'Oregon' 'Idaho' 'Nevada' 'Nevada' 'California' 'Oregon'\n",
            "  'California' 'Oregon']\n",
            " ['Once Upon a Time' 'Vikings' 'Game of Thrones' 'Vikings'\n",
            "  'Game of Thrones' 'Vikings' 'Daredevil' 'Game of Thrones'\n",
            "  'Game of Thrones' 'The Flash' 'Gotham' 'The Walking Dead'\n",
            "  'Game of Thrones' 'The Flash' 'Gotham' 'Suits' 'Gotham' 'The Flash'\n",
            "  'The Flash' 'Suits' 'Vikings' 'Daredevil' 'Daredevil' 'Suits'\n",
            "  'Better Call Saul' 'Vikings' 'The Walking Dead' 'Vikings'\n",
            "  'Game of Thrones' 'Vikings' 'Vikings' 'The Flash' 'Better Call Saul'\n",
            "  'Orange is the New Black' 'Vikings' 'The Flash' 'The Walking Dead'\n",
            "  'Game of Thrones' 'Suits' 'The Flash' 'Better Call Saul' 'Vikings'\n",
            "  'The Walking Dead' 'Better Call Saul' 'Suits' 'Once Upon a Time'\n",
            "  'Daredevil' 'Orange is the New Black' 'Gotham' 'Gotham' 'Suits'\n",
            "  'Gotham' 'Gotham' 'Suits' 'Gotham' 'The Flash' 'Game of Thrones'\n",
            "  'Game of Thrones' 'Vikings' 'Daredevil' 'The Flash' 'Suits'\n",
            "  'Once Upon a Time' 'Orange is the New Black' 'The Flash'\n",
            "  'Once Upon a Time' 'Suits' 'Vikings' 'Suits' 'The Flash'\n",
            "  'Game of Thrones' 'Daredevil' 'Game of Thrones' 'Daredevil'\n",
            "  'Once Upon a Time' 'Orange is the New Black' 'The Walking Dead'\n",
            "  'Better Call Saul' 'Game of Thrones' 'Daredevil' 'Better Call Saul'\n",
            "  'Game of Thrones' 'Better Call Saul' 'The Flash' 'The Flash'\n",
            "  'Orange is the New Black' 'The Flash' 'Daredevil' 'Suits'\n",
            "  'Game of Thrones' 'Daredevil' 'Gotham' 'Daredevil' 'Better Call Saul'\n",
            "  'Vikings' 'Game of Thrones' 'Daredevil' 'Game of Thrones' 'Daredevil']\n",
            " ['4075' '3739' '3997' '1682' '8983' '145' '2663' '6361' '6788' '3064'\n",
            "  '9389' '4301' '7328' '9003' '8575' '3239' '6695' '594' '3793' '8544'\n",
            "  '1059' '8200' '1856' '2871' '9574' '5218' '6256' '8581' '2460' '728'\n",
            "  '7495' '2103' '8179' '1144' '7514' '271' '4353' '7647' '3408' '8443'\n",
            "  '1970' '1711' '825' '7875' '1333' '9753' '4233' '1349' '1473' '4176'\n",
            "  '2193' '8477' '6834' '2569' '8284' '4729' '4988' '1177' '9210' '6374'\n",
            "  '9114' '9049' '6639' '5225' '4988' '2103' '6207' '6859' '1314' '6491'\n",
            "  '5764' '960' '5205' '2241' '6930' '3699' '8447' '3784' '9469' '4746'\n",
            "  '8430' '742' '9322' '3254' '5103' '7291' '8395' '7304' '2707' '2547'\n",
            "  '5555' '6505' '1817' '7268' '8161' '517' '2439' '7332' '6149']]\n"
          ]
        }
      ],
      "source": [
        "nparray = np.array((states, shows, viewers))\n",
        "print(nparray)"
      ]
    },
    {
      "cell_type": "markdown",
      "metadata": {
        "id": "lvt3XLcLZNnN"
      },
      "source": [
        "4. Sort the States and Shows arrays      \n",
        "\tNow your States array will look like:      \n",
        "\t['California', 'Idaho', 'Nevada', 'Oregon', 'Washington']      \n",
        "Convert the Viewers array from STRINGS into INTS      \n",
        "Sum up viewers list into one variable (you can do this in one line)       \n",
        "Print: Sorted arrays (states and shows), viewers list (as ints), and the variable that is the sum of the viewers list.        (30 pts)"
      ]
    },
    {
      "cell_type": "code",
      "execution_count": 15,
      "metadata": {
        "id": "twx_IvOdZNnQ",
        "colab": {
          "base_uri": "https://localhost:8080/"
        },
        "outputId": "7fa2122d-661f-408d-e00a-8fd962aae0d5"
      },
      "outputs": [
        {
          "output_type": "stream",
          "name": "stdout",
          "text": [
            "Sorted States: ['California', 'Idaho', 'Nevada', 'Oregon', 'Washington']\n",
            "Sorted Shows: ['Better Call Saul', 'Daredevil', 'Game of Thrones', 'Gotham', 'Once Upon a Time', 'Orange is the New Black', 'Suits', 'The Flash', 'The Walking Dead', 'Vikings']\n",
            "Viewers list: [4075, 3739, 3997, 1682, 8983, 145, 2663, 6361, 6788, 3064, 9389, 4301, 7328, 9003, 8575, 3239, 6695, 594, 3793, 8544, 1059, 8200, 1856, 2871, 9574, 5218, 6256, 8581, 2460, 728, 7495, 2103, 8179, 1144, 7514, 271, 4353, 7647, 3408, 8443, 1970, 1711, 825, 7875, 1333, 9753, 4233, 1349, 1473, 4176, 2193, 8477, 6834, 2569, 8284, 4729, 4988, 1177, 9210, 6374, 9114, 9049, 6639, 5225, 4988, 2103, 6207, 6859, 1314, 6491, 5764, 960, 5205, 2241, 6930, 3699, 8447, 3784, 9469, 4746, 8430, 742, 9322, 3254, 5103, 7291, 8395, 7304, 2707, 2547, 5555, 6505, 1817, 7268, 8161, 517, 2439, 7332, 6149]\n",
            "Total Viewers: 499923\n"
          ]
        }
      ],
      "source": [
        "\n",
        "sorted_states = sorted(set(states))\n",
        "sorted_shows = sorted(set(shows))\n",
        "\n",
        "viewers = [int(viewer) for viewer in viewers]\n",
        "total_viewers = sum(viewers)\n",
        "\n",
        "print(\"Sorted States:\", sorted_states)\n",
        "print(\"Sorted Shows:\", sorted_shows)\n",
        "print(\"Viewers list:\", viewers)\n",
        "print(\"Total Viewers:\", total_viewers)"
      ]
    },
    {
      "cell_type": "markdown",
      "metadata": {
        "id": "NaQoE_MeZNnQ"
      },
      "source": [
        "5. Create 2 DataFrames:      \n",
        "show_raw_stats: index = numpy sorted array of SHOWS; columns = numpy sorted array of STATES      \n",
        "show_agg_stats: index = same as above; columns= a list with the words Max, Min, Totals and Percent in it (like this… [‘Max’,’Min’,’Totals’, ‘Percent’]        \n",
        "Populate show_raw_stats with data from the Original Array ingested from film_results.txt.\n",
        "Populate the Max, Min, Totals, and Percent in show_agg_stats using the DataFrame native functionality    \n",
        "Print both dataframe   (30 pts)     \n",
        "\n",
        "HINT:  You will need to create a loop here that basically goes the length of the original array, and on each iteration, it grabs the STATE, SHOW, and VIEWERS number (itll be a string so youll have to convert it…).    \n",
        "The final step of each iteration will be placing it in the dataframe in the correct spot as an accumulation. +=      (Otherwise you just writing over the value there)     \n"
      ]
    },
    {
      "cell_type": "code",
      "execution_count": 26,
      "metadata": {
        "id": "qZ3BpYSVZNnR",
        "colab": {
          "base_uri": "https://localhost:8080/"
        },
        "outputId": "895b4e7b-3b06-4d79-aadd-782b40387b39"
      },
      "outputs": [
        {
          "output_type": "stream",
          "name": "stdout",
          "text": [
            "show_raw_stats:\n",
            "                         California  Idaho  Nevada  Oregon  Washington\n",
            "Better Call Saul               8430   8179    7268   17197       15328\n",
            "Daredevil                     13906   4480   18948   14962        2241\n",
            "Game of Thrones               15387   7530   35413    2460       20515\n",
            "Gotham                         1473  10871    8575   32655        6834\n",
            "Once Upon a Time               9753   6930    6639    4075        2103\n",
            "Orange is the New Black        7291   5225    1349    1144        3699\n",
            "Suits                         15964   4572   11251    8776        2871\n",
            "The Flash                     12257  18669    4387   28773        5259\n",
            "The Walking Dead               4353   6256     825    8447        4301\n",
            "Vikings                        1059   5218   42007    9206        4612\n",
            "\n",
            "show_agg_stats:\n",
            "                           Max   Min  Total    Percent\n",
            "Better Call Saul         17197  7268  56402  11.282137\n",
            "Daredevil                18948  2241  54537  10.909080\n",
            "Game of Thrones          35413  2460  81305  16.263505\n",
            "Gotham                   32655  1473  60408  12.083461\n",
            "Once Upon a Time          9753  2103  29500   5.900909\n",
            "Orange is the New Black   7291  1144  18708   3.742176\n",
            "Suits                    15964  2871  43434   8.688138\n",
            "The Flash                28773  4387  69345  13.871136\n",
            "The Walking Dead          8447   825  24182   4.837145\n",
            "Vikings                  42007  1059  62102  12.422313\n"
          ]
        }
      ],
      "source": [
        "show_raw_stats = pd.DataFrame(index=sorted_shows, columns=sorted_states)\n",
        "\n",
        "for state, show, viewer in zip(states, shows, viewers):\n",
        "    viewer = int(viewer)\n",
        "\n",
        "    if pd.notnull(show_raw_stats.loc[show, state]):\n",
        "        show_raw_stats.loc[show, state] += viewer\n",
        "    else:\n",
        "        show_raw_stats.loc[show, state] = viewer\n",
        "\n",
        "show_raw_stats = show_raw_stats.fillna(0)\n",
        "\n",
        "show_agg_stats = pd.DataFrame(index=sorted_shows, columns=['Max', 'Min', 'Total', 'Percent'])\n",
        "\n",
        "# Populate Max, Min, Total, and Percent in show_agg_stats\n",
        "show_agg_stats['Max'] = show_raw_stats.max(axis=1)\n",
        "show_agg_stats['Min'] = show_raw_stats.min(axis=1)\n",
        "show_agg_stats['Total'] = show_raw_stats.sum(axis=1)\n",
        "show_agg_stats['Percent'] = (show_agg_stats['Total'] / show_agg_stats['Total'].sum()) * 100\n",
        "\n",
        "# Print both DataFrames\n",
        "print(\"show_raw_stats:\")\n",
        "print(show_raw_stats)\n",
        "print(\"\\nshow_agg_stats:\")\n",
        "print(show_agg_stats)"
      ]
    },
    {
      "cell_type": "markdown",
      "metadata": {
        "id": "4UWEzWZXZNnR"
      },
      "source": [
        "6. Print the answer to these questions in a Markdown cell, do not print them with Python:        \n",
        "Which Show has the highest percentage?   (5 pts)      \n",
        "Which Show has the lowest percentage?    (5 pts)     \n",
        "Which show is your favorite?             (5 pts)     "
      ]
    },
    {
      "cell_type": "markdown",
      "source": [
        "* highest: game of thrones\n",
        "* lowest: orange is the new black\n",
        "* favorite: the walking dead \"never saw teh other shows so this is it by\n",
        "  default\""
      ],
      "metadata": {
        "id": "cL2MysRMkTjC"
      }
    },
    {
      "cell_type": "markdown",
      "metadata": {
        "id": "RBCYsLkwZNnR"
      },
      "source": [
        "### Please try to follow the directions as closely as possible.  You might think of better ways to implement this, with less lines of code the skips steps and thats great, but not for this assignment.  If you do think of these, put them in comments and extra points will be given for those but follow these steps."
      ]
    },
    {
      "cell_type": "markdown",
      "metadata": {
        "id": "di-hBHWqZNnR"
      },
      "source": []
    }
  ],
  "metadata": {
    "kernelspec": {
      "display_name": "base",
      "language": "python",
      "name": "python3"
    },
    "language_info": {
      "name": "python",
      "version": "3.9.7"
    },
    "colab": {
      "provenance": []
    }
  },
  "nbformat": 4,
  "nbformat_minor": 0
}